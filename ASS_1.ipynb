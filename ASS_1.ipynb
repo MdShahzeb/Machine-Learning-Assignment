{
 "cells": [
  {
   "cell_type": "markdown",
   "id": "8156bceb",
   "metadata": {},
   "source": [
    "### 1. What does one mean by the term \"machine learning\"?\n",
    "Machine learing is building model that used to found optimal parameter of dataset that is used to predict the future data"
   ]
  },
  {
   "cell_type": "markdown",
   "id": "534742da",
   "metadata": {},
   "source": [
    "### 2.Can you think of 4 distinct types of issues where it shines?\n",
    "1:Data mining(helps human to learn) ,2:to build a system where the enviroment is fluctuating, 3:to raplace hand tune long rules\n",
    "4:for complex problem for which have no algo."
   ]
  },
  {
   "cell_type": "markdown",
   "id": "78e4eb3b",
   "metadata": {},
   "source": [
    "### 3.What is a labeled training set, and how does it work?\n",
    "Labeld training set means data has both output and input, means supervised learning "
   ]
  },
  {
   "cell_type": "markdown",
   "id": "0f1294bf",
   "metadata": {},
   "source": [
    "### 4.What are the two most important tasks that are supervised?\n",
    "Regression and classification"
   ]
  },
  {
   "cell_type": "markdown",
   "id": "7336c021",
   "metadata": {},
   "source": [
    "### 5.Can you think of four examples of unsupervised tasks?\n",
    "1:Clustering,2:Anomly detection,3:Dimensionality reduction,4:Association learning"
   ]
  },
  {
   "cell_type": "markdown",
   "id": "cd7da18e",
   "metadata": {},
   "source": [
    "### 6.State the machine learning model that would be best to make a robot walk through various unfamiliar terrains?\n",
    "\n",
    "The best machine learining model that would be best to make robot walk through various unfamiliar terrains is REINFORCEMENT LEARNINIG where robot will learn by response from terrrain"
   ]
  },
  {
   "cell_type": "markdown",
   "id": "2cba051c",
   "metadata": {},
   "source": [
    "### 7.Which algorithm will you use to divide your customers into different groups?\n",
    "Clustring algorithm "
   ]
  },
  {
   "cell_type": "markdown",
   "id": "4b72545c",
   "metadata": {},
   "source": [
    "###  8.Will you consider the problem of spam detection to be a supervised or unsupervised learning problem?\n",
    "spam detection is supervised learning the algrotihm is trained with many emails wheteher that is spam or not"
   ]
  },
  {
   "cell_type": "markdown",
   "id": "462c4193",
   "metadata": {},
   "source": [
    "###  9.What is the concept of an online learning system?\n",
    "\n",
    "In online learning machine learns continiously ,because of data is given in stream mode"
   ]
  },
  {
   "cell_type": "markdown",
   "id": "64e27d7c",
   "metadata": {},
   "source": [
    "###  10.What is out-of-core learning, and how does it differ from core learning?\n",
    "\n",
    "out-of-core learning is online learning where the model learn from new data continiously when it stremed"
   ]
  },
  {
   "cell_type": "markdown",
   "id": "4a294092",
   "metadata": {},
   "source": [
    "###  11.What kind of learning algorithm makes predictions using a similarity measure?\n",
    "Instance based algorithm makes predictions using a similarity measure"
   ]
  },
  {
   "cell_type": "markdown",
   "id": "e0cea95c",
   "metadata": {},
   "source": [
    "###  12.What's the difference between a model parameter and a hyperparameter in a learning algorithm?\n",
    "Model parameter is that which used to predict the new instance and Hyperparameter is  parameter learning algoritm Algorithm."
   ]
  },
  {
   "cell_type": "markdown",
   "id": "eaf35e13",
   "metadata": {},
   "source": [
    "###  13.What are the criteria that model-based learning algorithms look for? What is the most popular method they use to achieve success? What method do they use to make predictions?\n",
    "Model-based learning algorithm is looking for parameters of the data,they use cost function or similar type and finding their parameter so that it minimises the cost function,they used to make prediction by new instance and parameter of algorithm"
   ]
  },
  {
   "cell_type": "markdown",
   "id": "16526c71",
   "metadata": {},
   "source": [
    "###  14.Can you name four of the most important Machine Learning challenges?\n",
    "1:overfitting of data,2:underfitting of data,3:lack of data,4:unrepresented data"
   ]
  },
  {
   "cell_type": "markdown",
   "id": "54c118b1",
   "metadata": {},
   "source": [
    "###  15.What happens if the model performs well on the training data but fails to generalize the results to new situations? Can you think of three different options?\n",
    "it is the case of overfitting of the data .to avoid this we can do\n",
    "\n",
    "1:provide more data\n",
    "\n",
    "2:introduce biases\n",
    "\n",
    "3:eliminate outliars or noise from data"
   ]
  },
  {
   "cell_type": "markdown",
   "id": "906d318e",
   "metadata": {},
   "source": [
    "###  16.What exactly is a test set, and why would you need one?\n",
    "test set is used to test your model,it use to check the model how good or bad it is."
   ]
  },
  {
   "cell_type": "markdown",
   "id": "f55bf61f",
   "metadata": {},
   "source": [
    "###  17.What is a validation set's purpose?\n",
    "validation set used to compare model,it use to select the best model and tune the hyperparamter"
   ]
  },
  {
   "cell_type": "markdown",
   "id": "087ba31d",
   "metadata": {},
   "source": [
    "### 18.What precisely is the train-dev kit, when will you need it, how do you put it to use?\n",
    "if the training and dev set has different ditribution ,then train-dev set is introduced which has same distribution as training set,the train-dev set is to measure the how much the model overfitting"
   ]
  },
  {
   "cell_type": "markdown",
   "id": "17428e4d",
   "metadata": {},
   "source": [
    "###  19.What could go wrong if you use the test set to tune hyperparameters?\n",
    "then it is trained for that specific data ,and if out-of sample data comes then it will not perform good for that."
   ]
  }
 ],
 "metadata": {
  "kernelspec": {
   "display_name": "Python 3",
   "language": "python",
   "name": "python3"
  },
  "language_info": {
   "codemirror_mode": {
    "name": "ipython",
    "version": 3
   },
   "file_extension": ".py",
   "mimetype": "text/x-python",
   "name": "python",
   "nbconvert_exporter": "python",
   "pygments_lexer": "ipython3",
   "version": "3.8.8"
  }
 },
 "nbformat": 4,
 "nbformat_minor": 5
}
