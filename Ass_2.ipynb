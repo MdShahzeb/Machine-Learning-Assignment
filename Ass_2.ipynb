{
 "cells": [
  {
   "cell_type": "markdown",
   "id": "2b3936ab",
   "metadata": {},
   "source": [
    "### 1. What is the concept of human learning? Please give two examples.\n",
    "Ans: Human learning is a type of learning which required higher level of thinking,reasoning,intelligance etc,we learn different concept from childhood, for ex:\n",
    "\n",
    "1:Learning through association-classical conditioning\n",
    "\n",
    "2:Learning through observation-Modeling/observational learning\n",
    "\n",
    "3:Learning through consequences-opearnd learning"
   ]
  },
  {
   "cell_type": "markdown",
   "id": "39465b60",
   "metadata": {},
   "source": [
    "### 2. What different forms of human learning are there? Are there any machine learning equivalents?\n",
    "Ans:Studying under supervison and studying without supervision is example of Human learning which is the example of supervised and unsupervised Machine Learning."
   ]
  },
  {
   "cell_type": "markdown",
   "id": "a3e3dc5e",
   "metadata": {},
   "source": [
    "### 3. What is machine learning, and how does it work? What are the key responsibilities of machine learning?\n",
    "Ans:ML is all about finding parameter of data so that we can predict the future outcome by that.\n",
    "\n",
    "it works by exploring data,and finding the pattern by using algorithms ,and involves minimal human intervation\n",
    "\n",
    "key responsibilty of ML is highly specific to the domain"
   ]
  },
  {
   "cell_type": "markdown",
   "id": "7e55e60c",
   "metadata": {},
   "source": [
    "### 4. Define the terms \"penalty\" and \"reward\" in the context of reinforcement learning.\n",
    "Ans:Reniforcement learning is like it learn by interacting with the environment,when it perform correctly then it is given reward and when it perform incorrect then it given penality "
   ]
  },
  {
   "cell_type": "markdown",
   "id": "e9ba5956",
   "metadata": {},
   "source": [
    "###  5. Explain the term \"learning as a search\"?\n",
    "Ans:finding the best hypothesis in all possible hypothesis in hypothesis space."
   ]
  },
  {
   "cell_type": "markdown",
   "id": "891af1e6",
   "metadata": {},
   "source": [
    "### 6. What are the various goals of machine learning? What is the relationship between these and human learning?\n",
    "Ans:Goal of ML is ,by using Algorithm we can analyse the data ,exaplore,visulaize and last we can predict the future outcomes of unseen data.\n",
    "\n",
    "Human have abilty to learn by the previous experiance and ML also learn by data which stored previously.  "
   ]
  },
  {
   "cell_type": "markdown",
   "id": "5566eab2",
   "metadata": {},
   "source": [
    "### 7. Illustrate the various elements of machine learning using a real-life illustration.\n",
    "Ans: As human learn by its error model also learn by its errors"
   ]
  },
  {
   "cell_type": "markdown",
   "id": "9f5b0632",
   "metadata": {},
   "source": [
    "### 8. Provide an example of the abstraction method.\n",
    "Ans:Feature selection is done to reduce the dimensionality of data, so that model compleity can be reduced is exmaple of abstraction "
   ]
  },
  {
   "cell_type": "markdown",
   "id": "e0b0c59b",
   "metadata": {},
   "source": [
    "### 9. What is the concept of generalization? What function does it play in the machine learning process?\n",
    "Ans: Genearliztion is a concept of ML model which dictates how much a unseen data can be varied and the result will be as expected ,Low genarllization leads to the overfitting of the data"
   ]
  },
  {
   "cell_type": "markdown",
   "id": "b5cb0927",
   "metadata": {},
   "source": [
    "### 10. What is classification, exactly? What are the main distinctions between classification and regression?\n",
    "Ans:Classification is what we labelling the data from finite number of label available for the data.\n",
    "\n",
    "classification what it is discreate labels,while regression is what continoius quantity"
   ]
  },
  {
   "cell_type": "markdown",
   "id": "2c19f32b",
   "metadata": {},
   "source": [
    "###  11. What is regression, and how does it work? Give an example of a real-world problem that was solved using regression.\n",
    "Ans:Regression is Supervised machine learning technique,in which data is fit over the line or curve.\n",
    "\n",
    "Wight of the person and hight of the person"
   ]
  },
  {
   "cell_type": "markdown",
   "id": "f9d167c5",
   "metadata": {},
   "source": [
    "###  12. Describe the clustering mechanism in detail.\n",
    "Ans:Clustring is unsupervised learning , in clustring data is segregrate into the group based on the similarity. one data of the one cluster will be differtent by some means of the data of the another cluster "
   ]
  },
  {
   "cell_type": "markdown",
   "id": "4d6eb92c",
   "metadata": {},
   "source": [
    "### 13. Make brief observations on two of the following topics:\n",
    "i. Machine learning algorithms are used\n",
    "\n",
    "ii. Studying under supervision\n",
    "\n",
    "iii. Studying without supervision\n",
    "\n",
    "iv. Reinforcement learning is a form of learning based on positive reinforcement.\n"
   ]
  },
  {
   "cell_type": "markdown",
   "id": "03a513fe",
   "metadata": {},
   "source": [
    "Ans: Machine learning algorithm are used: ML algorithm is some what mathematical function programed to perform that when data fed into that they perform thet function and learn in some specific region and when new data is fed it predict accorf=ding to the learning of the model\n",
    "\n",
    "studying under supervison: it is like the supervised learning in Ml ."
   ]
  }
 ],
 "metadata": {
  "kernelspec": {
   "display_name": "Python 3",
   "language": "python",
   "name": "python3"
  },
  "language_info": {
   "codemirror_mode": {
    "name": "ipython",
    "version": 3
   },
   "file_extension": ".py",
   "mimetype": "text/x-python",
   "name": "python",
   "nbconvert_exporter": "python",
   "pygments_lexer": "ipython3",
   "version": "3.8.8"
  }
 },
 "nbformat": 4,
 "nbformat_minor": 5
}
